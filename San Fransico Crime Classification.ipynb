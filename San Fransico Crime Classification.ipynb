{
 "cells": [
  {
   "cell_type": "code",
   "execution_count": 1,
   "metadata": {},
   "outputs": [],
   "source": [
    "import pandas as pd\n",
    "import numpy as np\n",
    "train_data = pd.read_csv(\"train.csv\")\n",
    "test_data = pd.read_csv(\"test.csv\")"
   ]
  },
  {
   "cell_type": "code",
   "execution_count": 2,
   "metadata": {},
   "outputs": [],
   "source": [
    "for dataset in [train_data, test_data]:\n",
    "    dataset['Year'] = dataset['Dates'].apply(lambda x:int(x.split('-')[0]))\n",
    "    dataset['Month'] = dataset['Dates'].apply(lambda x:int(x.split('-')[1]))\n",
    "    dataset['Date'] = dataset['Dates'].apply(lambda x:int(x.split('-')[2].split(' ')[0]))\n",
    "    dataset['Hour'] = dataset['Dates'].apply(lambda x:int(x.split(' ')[1].split(':')[0]))\n",
    "    dataset['Minute'] = dataset['Dates'].apply(lambda x:int(x.split(' ')[1].split(':')[1]))\n",
    "    dataset['StreetNo'] = dataset['Address'].apply(lambda x: int(x.split(' ', 1)[0]) if x.split(' ', 1)[0].isdigit() else 0)"
   ]
  },
  {
   "cell_type": "code",
   "execution_count": 3,
   "metadata": {},
   "outputs": [],
   "source": [
    "threat_to_individuals = ['ARSON', 'ASSAULT', 'EXTORTION', 'KIDNAPPING', 'LARCENY/THEFT', 'BURGLARY', 'MISSING PERSON', 'ROBBERY', 'SEX OFFENSES FORCIBLE', 'SEX OFFENSES NON FORCIBLE', 'STOLEN PROPERTY', 'SUICIDE', 'VANDALISM', 'VEHICLE THEFT', 'WEAPON LAWS', 'FAMILY OFFENSES', 'OTHER OFFENSES']\n",
    "violation_of_law = ['BAD CHECKS', 'BRIBERY', 'DISORDERLY CONDUCT', 'DRIVING UNDER THE INFLUENCE', 'DRUG/NARCOTIC', 'DRUNKENNESS', 'EMBEZZLEMENT', 'FORGERY/COUNTERFEITING', 'FRAUD', 'GAMBLING', 'LIQUOR LAWS', 'LOITERING', 'PORNOGRAPHY/OBSCENE MAT', 'PROSTITUTION', 'RECOVERED VEHICLE', 'RUNAWAY', 'SECONDARY CODES', 'SUSPICIOUS OCC', 'TRESPASS', 'WARRANTS']\n",
    "\n",
    "train_data['Category'] = train_data['Category'].apply(lambda x: 'THREAT TO OTHERS LIFE' if x in threat_to_individuals else ('VIOLATION OF LAW' if x in violation_of_law  else 'NON-CRIMINAL'))"
   ]
  },
  {
   "cell_type": "code",
   "execution_count": 4,
   "metadata": {},
   "outputs": [],
   "source": [
    "train_data = train_data.fillna(train_data.mode().iloc[0])\n",
    "test_data = test_data.fillna(test_data.mode().iloc[0])"
   ]
  },
  {
   "cell_type": "code",
   "execution_count": 5,
   "metadata": {},
   "outputs": [
    {
     "name": "stderr",
     "output_type": "stream",
     "text": [
      "C:\\Users\\Ravali Koppaka\\Anaconda3\\lib\\site-packages\\pandas\\core\\indexes\\base.py:3140: RuntimeWarning: '<' not supported between instances of 'str' and 'int', sort order is undefined for incomparable objects\n",
      "  return this.join(other, how=how, return_indexers=return_indexers)\n"
     ]
    }
   ],
   "source": [
    "features = ['Year','Month','Date','Hour','Minute','StreetNo','DayOfWeek','PdDistrict','X','Y']\n",
    "non_numeric_features = ['DayOfWeek', 'PdDistrict']\n",
    "\n",
    "from sklearn.preprocessing import LabelEncoder\n",
    "le = LabelEncoder()\n",
    "\n",
    "from sklearn.preprocessing import OneHotEncoder\n",
    "ohe = OneHotEncoder(sparse = False)\n",
    "\n",
    "for feature in non_numeric_features:\n",
    "    labelEncodedData = le.fit_transform(list(train_data[feature]) + list(test_data[feature]))\n",
    "    oneHotEncoderData = labelEncodedData.reshape(len(labelEncodedData), 1)\n",
    "    ohe.fit(oneHotEncoderData)\n",
    "    train_data = train_data.combine_first(pd.DataFrame(ohe.transform(le.transform(train_data[feature]).reshape(len(train_data[feature]),1))))\n",
    "    test_data = test_data.combine_first(pd.DataFrame(ohe.transform(le.transform(test_data[feature]).reshape(len(test_data[feature]),1))))"
   ]
  },
  {
   "cell_type": "code",
   "execution_count": 43,
   "metadata": {},
   "outputs": [
    {
     "name": "stdout",
     "output_type": "stream",
     "text": [
      "['Dates' 'Category' 'Descript' 'DayOfWeek' 'PdDistrict' 'Resolution'\n",
      " 'Address' 'X' 'Y' 'Year' 'Month' 'Date' 'Hour' 'Minute' '0' '1' '2' '3'\n",
      " '4' '5' '6' '7' '8' '9']\n"
     ]
    },
    {
     "data": {
      "text/html": [
       "<div>\n",
       "<style scoped>\n",
       "    .dataframe tbody tr th:only-of-type {\n",
       "        vertical-align: middle;\n",
       "    }\n",
       "\n",
       "    .dataframe tbody tr th {\n",
       "        vertical-align: top;\n",
       "    }\n",
       "\n",
       "    .dataframe thead th {\n",
       "        text-align: right;\n",
       "    }\n",
       "</style>\n",
       "<table border=\"1\" class=\"dataframe\">\n",
       "  <thead>\n",
       "    <tr style=\"text-align: right;\">\n",
       "      <th></th>\n",
       "      <th>Dates</th>\n",
       "      <th>Category</th>\n",
       "      <th>Descript</th>\n",
       "      <th>DayOfWeek</th>\n",
       "      <th>PdDistrict</th>\n",
       "      <th>Resolution</th>\n",
       "      <th>Address</th>\n",
       "      <th>X</th>\n",
       "      <th>Y</th>\n",
       "      <th>Year</th>\n",
       "      <th>...</th>\n",
       "      <th>0</th>\n",
       "      <th>1</th>\n",
       "      <th>2</th>\n",
       "      <th>3</th>\n",
       "      <th>4</th>\n",
       "      <th>5</th>\n",
       "      <th>6</th>\n",
       "      <th>7</th>\n",
       "      <th>8</th>\n",
       "      <th>9</th>\n",
       "    </tr>\n",
       "  </thead>\n",
       "  <tbody>\n",
       "    <tr>\n",
       "      <th>0</th>\n",
       "      <td>2015-05-13 23:53:00</td>\n",
       "      <td>VIOLATION OF LAW</td>\n",
       "      <td>WARRANT ARREST</td>\n",
       "      <td>Wednesday</td>\n",
       "      <td>NORTHERN</td>\n",
       "      <td>ARREST, BOOKED</td>\n",
       "      <td>OAK ST / LAGUNA ST</td>\n",
       "      <td>-122.425892</td>\n",
       "      <td>37.774599</td>\n",
       "      <td>2015</td>\n",
       "      <td>...</td>\n",
       "      <td>0.0</td>\n",
       "      <td>0.0</td>\n",
       "      <td>0.0</td>\n",
       "      <td>0.0</td>\n",
       "      <td>0.0</td>\n",
       "      <td>0.0</td>\n",
       "      <td>1.0</td>\n",
       "      <td>0.0</td>\n",
       "      <td>0.0</td>\n",
       "      <td>0.0</td>\n",
       "    </tr>\n",
       "    <tr>\n",
       "      <th>1</th>\n",
       "      <td>2015-05-13 23:53:00</td>\n",
       "      <td>THREAT TO OTHERS LIFE</td>\n",
       "      <td>TRAFFIC VIOLATION ARREST</td>\n",
       "      <td>Wednesday</td>\n",
       "      <td>NORTHERN</td>\n",
       "      <td>ARREST, BOOKED</td>\n",
       "      <td>OAK ST / LAGUNA ST</td>\n",
       "      <td>-122.425892</td>\n",
       "      <td>37.774599</td>\n",
       "      <td>2015</td>\n",
       "      <td>...</td>\n",
       "      <td>0.0</td>\n",
       "      <td>0.0</td>\n",
       "      <td>0.0</td>\n",
       "      <td>0.0</td>\n",
       "      <td>0.0</td>\n",
       "      <td>0.0</td>\n",
       "      <td>1.0</td>\n",
       "      <td>0.0</td>\n",
       "      <td>0.0</td>\n",
       "      <td>0.0</td>\n",
       "    </tr>\n",
       "    <tr>\n",
       "      <th>2</th>\n",
       "      <td>2015-05-13 23:33:00</td>\n",
       "      <td>THREAT TO OTHERS LIFE</td>\n",
       "      <td>TRAFFIC VIOLATION ARREST</td>\n",
       "      <td>Wednesday</td>\n",
       "      <td>NORTHERN</td>\n",
       "      <td>ARREST, BOOKED</td>\n",
       "      <td>VANNESS AV / GREENWICH ST</td>\n",
       "      <td>-122.424363</td>\n",
       "      <td>37.800414</td>\n",
       "      <td>2015</td>\n",
       "      <td>...</td>\n",
       "      <td>0.0</td>\n",
       "      <td>0.0</td>\n",
       "      <td>0.0</td>\n",
       "      <td>0.0</td>\n",
       "      <td>0.0</td>\n",
       "      <td>0.0</td>\n",
       "      <td>1.0</td>\n",
       "      <td>0.0</td>\n",
       "      <td>0.0</td>\n",
       "      <td>0.0</td>\n",
       "    </tr>\n",
       "    <tr>\n",
       "      <th>3</th>\n",
       "      <td>2015-05-13 23:30:00</td>\n",
       "      <td>THREAT TO OTHERS LIFE</td>\n",
       "      <td>GRAND THEFT FROM LOCKED AUTO</td>\n",
       "      <td>Wednesday</td>\n",
       "      <td>NORTHERN</td>\n",
       "      <td>NONE</td>\n",
       "      <td>1500 Block of LOMBARD ST</td>\n",
       "      <td>-122.426995</td>\n",
       "      <td>37.800873</td>\n",
       "      <td>2015</td>\n",
       "      <td>...</td>\n",
       "      <td>0.0</td>\n",
       "      <td>0.0</td>\n",
       "      <td>0.0</td>\n",
       "      <td>0.0</td>\n",
       "      <td>0.0</td>\n",
       "      <td>0.0</td>\n",
       "      <td>1.0</td>\n",
       "      <td>0.0</td>\n",
       "      <td>0.0</td>\n",
       "      <td>0.0</td>\n",
       "    </tr>\n",
       "    <tr>\n",
       "      <th>4</th>\n",
       "      <td>2015-05-13 23:30:00</td>\n",
       "      <td>THREAT TO OTHERS LIFE</td>\n",
       "      <td>GRAND THEFT FROM LOCKED AUTO</td>\n",
       "      <td>Wednesday</td>\n",
       "      <td>PARK</td>\n",
       "      <td>NONE</td>\n",
       "      <td>100 Block of BRODERICK ST</td>\n",
       "      <td>-122.438738</td>\n",
       "      <td>37.771541</td>\n",
       "      <td>2015</td>\n",
       "      <td>...</td>\n",
       "      <td>0.0</td>\n",
       "      <td>0.0</td>\n",
       "      <td>0.0</td>\n",
       "      <td>0.0</td>\n",
       "      <td>0.0</td>\n",
       "      <td>0.0</td>\n",
       "      <td>1.0</td>\n",
       "      <td>0.0</td>\n",
       "      <td>0.0</td>\n",
       "      <td>0.0</td>\n",
       "    </tr>\n",
       "  </tbody>\n",
       "</table>\n",
       "<p>5 rows × 24 columns</p>\n",
       "</div>"
      ],
      "text/plain": [
       "                 Dates               Category                      Descript  \\\n",
       "0  2015-05-13 23:53:00       VIOLATION OF LAW                WARRANT ARREST   \n",
       "1  2015-05-13 23:53:00  THREAT TO OTHERS LIFE      TRAFFIC VIOLATION ARREST   \n",
       "2  2015-05-13 23:33:00  THREAT TO OTHERS LIFE      TRAFFIC VIOLATION ARREST   \n",
       "3  2015-05-13 23:30:00  THREAT TO OTHERS LIFE  GRAND THEFT FROM LOCKED AUTO   \n",
       "4  2015-05-13 23:30:00  THREAT TO OTHERS LIFE  GRAND THEFT FROM LOCKED AUTO   \n",
       "\n",
       "   DayOfWeek PdDistrict      Resolution                    Address  \\\n",
       "0  Wednesday   NORTHERN  ARREST, BOOKED         OAK ST / LAGUNA ST   \n",
       "1  Wednesday   NORTHERN  ARREST, BOOKED         OAK ST / LAGUNA ST   \n",
       "2  Wednesday   NORTHERN  ARREST, BOOKED  VANNESS AV / GREENWICH ST   \n",
       "3  Wednesday   NORTHERN            NONE   1500 Block of LOMBARD ST   \n",
       "4  Wednesday       PARK            NONE  100 Block of BRODERICK ST   \n",
       "\n",
       "            X          Y  Year ...     0    1    2    3    4    5    6    7  \\\n",
       "0 -122.425892  37.774599  2015 ...   0.0  0.0  0.0  0.0  0.0  0.0  1.0  0.0   \n",
       "1 -122.425892  37.774599  2015 ...   0.0  0.0  0.0  0.0  0.0  0.0  1.0  0.0   \n",
       "2 -122.424363  37.800414  2015 ...   0.0  0.0  0.0  0.0  0.0  0.0  1.0  0.0   \n",
       "3 -122.426995  37.800873  2015 ...   0.0  0.0  0.0  0.0  0.0  0.0  1.0  0.0   \n",
       "4 -122.438738  37.771541  2015 ...   0.0  0.0  0.0  0.0  0.0  0.0  1.0  0.0   \n",
       "\n",
       "     8    9  \n",
       "0  0.0  0.0  \n",
       "1  0.0  0.0  \n",
       "2  0.0  0.0  \n",
       "3  0.0  0.0  \n",
       "4  0.0  0.0  \n",
       "\n",
       "[5 rows x 24 columns]"
      ]
     },
     "execution_count": 43,
     "metadata": {},
     "output_type": "execute_result"
    }
   ],
   "source": [
    "features = ['Year','Month','Date','Hour','Minute','X','Y','0','1','2','3','4','5','6','7','8','9']\n",
    "train_data.columns = ['Dates','Category','Descript','DayOfWeek','PdDistrict','Resolution','Address','X','Y','Year',\n",
    "                      'Month','Date','Hour','Minute','0','1','2','3','4','5','6','7','8','9']\n",
    "print(train_data.columns.values)\n",
    "train_data.head()"
   ]
  },
  {
   "cell_type": "code",
   "execution_count": 44,
   "metadata": {},
   "outputs": [],
   "source": [
    "from sklearn.model_selection import train_test_split\n",
    "train_set, valid_set, train_labels, valid_labels = train_test_split(train_data[list(features)], train_data['Category'], test_size=0.4, random_state=4327)"
   ]
  },
  {
   "cell_type": "code",
   "execution_count": 45,
   "metadata": {},
   "outputs": [],
   "source": [
    "from sklearn.metrics import accuracy_score\n",
    "from sklearn.tree import DecisionTreeClassifier\n",
    "from sklearn.neighbors import KNeighborsClassifier\n",
    "from sklearn.ensemble import AdaBoostClassifier, GradientBoostingClassifier, RandomForestClassifier\n",
    "\n",
    "classifiers = [\n",
    "        RandomForestClassifier(max_depth=16,n_estimators=1024),\n",
    "        GradientBoostingClassifier(n_estimators=10, learning_rate=1.0,max_depth=5, random_state=0),\n",
    "        KNeighborsClassifier(n_neighbors=100, weights='uniform', algorithm='auto', leaf_size=100, p=10, metric='minkowski'),\n",
    "        AdaBoostClassifier(base_estimator=DecisionTreeClassifier(max_depth=8), algorithm=\"SAMME.R\", n_estimators=128)\n",
    "    ]"
   ]
  },
  {
   "cell_type": "code",
   "execution_count": 46,
   "metadata": {},
   "outputs": [
    {
     "name": "stdout",
     "output_type": "stream",
     "text": [
      "RandomForestClassifier\n",
      "Accuracy Score:\n",
      "0.6829508570126986\n",
      "GradientBoostingClassifier\n",
      "Accuracy Score:\n",
      "0.6817635669950458\n",
      "KNeighborsClassifier\n",
      "Accuracy Score:\n",
      "0.665582825579409\n",
      "AdaBoostClassifier\n",
      "Accuracy Score:\n",
      "0.6578554752007288\n"
     ]
    }
   ],
   "source": [
    "for classifier in classifiers:\n",
    "    # Train\n",
    "    classifier.fit(train_set, train_labels)\n",
    "\n",
    "    # Test results\n",
    "    print(classifier.__class__.__name__)\n",
    "    print('Accuracy Score:')\n",
    "    print(accuracy_score(valid_labels,classifier.predict(valid_set)))\n"
   ]
  },
  {
   "cell_type": "code",
   "execution_count": 47,
   "metadata": {},
   "outputs": [
    {
     "name": "stdout",
     "output_type": "stream",
     "text": [
      "0.6741871191845566\n"
     ]
    }
   ],
   "source": [
    "from xgboost import XGBClassifier\n",
    "xgb_classifier = XGBClassifier()\n",
    "xgb_classifier.fit(train_set, train_labels)\n",
    "print(accuracy_score(valid_labels, xgb_classifier.predict(valid_set)))\n"
   ]
  },
  {
   "cell_type": "code",
   "execution_count": null,
   "metadata": {},
   "outputs": [],
   "source": []
  }
 ],
 "metadata": {
  "kernelspec": {
   "display_name": "Python 3",
   "language": "python",
   "name": "python3"
  },
  "language_info": {
   "codemirror_mode": {
    "name": "ipython",
    "version": 3
   },
   "file_extension": ".py",
   "mimetype": "text/x-python",
   "name": "python",
   "nbconvert_exporter": "python",
   "pygments_lexer": "ipython3",
   "version": "3.6.4"
  }
 },
 "nbformat": 4,
 "nbformat_minor": 2
}
